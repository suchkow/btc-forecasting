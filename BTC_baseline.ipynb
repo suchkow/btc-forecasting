{
 "cells": [
  {
   "cell_type": "markdown",
   "metadata": {
    "id": "4KVDWYeP0c0d"
   },
   "source": [
    "Загружаем данные.\n",
    "\n",
    "Последние семь дней (это просто продублированные значения из таблицы за последнюю известную дату - 8 дней назад).\n",
    "\n",
    "Вам нужно спрогнозировать цену биткоина (Price) на последние семь дней."
   ]
  },
  {
   "cell_type": "code",
   "execution_count": 1,
   "metadata": {
    "colab": {
     "base_uri": "https://localhost:8080/",
     "height": 435
    },
    "id": "XVm2XfwF76m5",
    "outputId": "4ebcaae8-b524-46e2-8aa4-575da638dc6b"
   },
   "outputs": [
    {
     "name": "stdout",
     "output_type": "stream",
     "text": [
      "547\n"
     ]
    },
    {
     "data": {
      "text/html": [
       "<div>\n",
       "<style scoped>\n",
       "    .dataframe tbody tr th:only-of-type {\n",
       "        vertical-align: middle;\n",
       "    }\n",
       "\n",
       "    .dataframe tbody tr th {\n",
       "        vertical-align: top;\n",
       "    }\n",
       "\n",
       "    .dataframe thead th {\n",
       "        text-align: right;\n",
       "    }\n",
       "</style>\n",
       "<table border=\"1\" class=\"dataframe\">\n",
       "  <thead>\n",
       "    <tr style=\"text-align: right;\">\n",
       "      <th></th>\n",
       "      <th>Price</th>\n",
       "      <th>Open</th>\n",
       "      <th>High</th>\n",
       "      <th>Low</th>\n",
       "      <th>Vol.</th>\n",
       "      <th>Change %</th>\n",
       "    </tr>\n",
       "    <tr>\n",
       "      <th>Date</th>\n",
       "      <th></th>\n",
       "      <th></th>\n",
       "      <th></th>\n",
       "      <th></th>\n",
       "      <th></th>\n",
       "      <th></th>\n",
       "    </tr>\n",
       "  </thead>\n",
       "  <tbody>\n",
       "    <tr>\n",
       "      <th>2023-07-05</th>\n",
       "      <td>30,512.8</td>\n",
       "      <td>30,768.6</td>\n",
       "      <td>30,875.6</td>\n",
       "      <td>30,233.3</td>\n",
       "      <td>43.23K</td>\n",
       "      <td>-0.83%</td>\n",
       "    </tr>\n",
       "    <tr>\n",
       "      <th>2023-07-06</th>\n",
       "      <td>29,913.1</td>\n",
       "      <td>30,512.8</td>\n",
       "      <td>31,463.6</td>\n",
       "      <td>29,869.0</td>\n",
       "      <td>90.81K</td>\n",
       "      <td>-1.97%</td>\n",
       "    </tr>\n",
       "    <tr>\n",
       "      <th>2023-07-07</th>\n",
       "      <td>30,346.4</td>\n",
       "      <td>29,912.7</td>\n",
       "      <td>30,442.0</td>\n",
       "      <td>29,757.4</td>\n",
       "      <td>46.42K</td>\n",
       "      <td>1.45%</td>\n",
       "    </tr>\n",
       "    <tr>\n",
       "      <th>2023-07-08</th>\n",
       "      <td>30,346.4</td>\n",
       "      <td>29,912.7</td>\n",
       "      <td>30,442.0</td>\n",
       "      <td>29,757.4</td>\n",
       "      <td>46.42K</td>\n",
       "      <td>1.45%</td>\n",
       "    </tr>\n",
       "    <tr>\n",
       "      <th>2023-07-09</th>\n",
       "      <td>30,346.4</td>\n",
       "      <td>29,912.7</td>\n",
       "      <td>30,442.0</td>\n",
       "      <td>29,757.4</td>\n",
       "      <td>46.42K</td>\n",
       "      <td>1.45%</td>\n",
       "    </tr>\n",
       "    <tr>\n",
       "      <th>2023-07-10</th>\n",
       "      <td>30,346.4</td>\n",
       "      <td>29,912.7</td>\n",
       "      <td>30,442.0</td>\n",
       "      <td>29,757.4</td>\n",
       "      <td>46.42K</td>\n",
       "      <td>1.45%</td>\n",
       "    </tr>\n",
       "    <tr>\n",
       "      <th>2023-07-11</th>\n",
       "      <td>30,346.4</td>\n",
       "      <td>29,912.7</td>\n",
       "      <td>30,442.0</td>\n",
       "      <td>29,757.4</td>\n",
       "      <td>46.42K</td>\n",
       "      <td>1.45%</td>\n",
       "    </tr>\n",
       "    <tr>\n",
       "      <th>2023-07-12</th>\n",
       "      <td>30,346.4</td>\n",
       "      <td>29,912.7</td>\n",
       "      <td>30,442.0</td>\n",
       "      <td>29,757.4</td>\n",
       "      <td>46.42K</td>\n",
       "      <td>1.45%</td>\n",
       "    </tr>\n",
       "    <tr>\n",
       "      <th>2023-07-13</th>\n",
       "      <td>30,346.4</td>\n",
       "      <td>29,912.7</td>\n",
       "      <td>30,442.0</td>\n",
       "      <td>29,757.4</td>\n",
       "      <td>46.42K</td>\n",
       "      <td>1.45%</td>\n",
       "    </tr>\n",
       "    <tr>\n",
       "      <th>2023-07-14</th>\n",
       "      <td>30,346.4</td>\n",
       "      <td>29,912.7</td>\n",
       "      <td>30,442.0</td>\n",
       "      <td>29,757.4</td>\n",
       "      <td>46.42K</td>\n",
       "      <td>1.45%</td>\n",
       "    </tr>\n",
       "  </tbody>\n",
       "</table>\n",
       "</div>"
      ],
      "text/plain": [
       "               Price      Open      High       Low    Vol. Change %\n",
       "Date                                                               \n",
       "2023-07-05  30,512.8  30,768.6  30,875.6  30,233.3  43.23K   -0.83%\n",
       "2023-07-06  29,913.1  30,512.8  31,463.6  29,869.0  90.81K   -1.97%\n",
       "2023-07-07  30,346.4  29,912.7  30,442.0  29,757.4  46.42K    1.45%\n",
       "2023-07-08  30,346.4  29,912.7  30,442.0  29,757.4  46.42K    1.45%\n",
       "2023-07-09  30,346.4  29,912.7  30,442.0  29,757.4  46.42K    1.45%\n",
       "2023-07-10  30,346.4  29,912.7  30,442.0  29,757.4  46.42K    1.45%\n",
       "2023-07-11  30,346.4  29,912.7  30,442.0  29,757.4  46.42K    1.45%\n",
       "2023-07-12  30,346.4  29,912.7  30,442.0  29,757.4  46.42K    1.45%\n",
       "2023-07-13  30,346.4  29,912.7  30,442.0  29,757.4  46.42K    1.45%\n",
       "2023-07-14  30,346.4  29,912.7  30,442.0  29,757.4  46.42K    1.45%"
      ]
     },
     "execution_count": 1,
     "metadata": {},
     "output_type": "execute_result"
    }
   ],
   "source": [
    "import pandas as pd\n",
    "from matplotlib import pyplot as plt\n",
    "\n",
    "data = pd.read_csv(\"Bitcoin_kaggle.csv\",\n",
    "                  delimiter=';',\n",
    "                  parse_dates=True,\n",
    "                  index_col='Date'\n",
    "                  )\n",
    "\n",
    "print(len(data))\n",
    "\n",
    "data = data.sort_index()\n",
    "\n",
    "data.tail(10)"
   ]
  },
  {
   "cell_type": "markdown",
   "metadata": {
    "id": "cIT52Gca0r6-"
   },
   "source": [
    "Преобразуем Price в нужный формат."
   ]
  },
  {
   "cell_type": "code",
   "execution_count": 2,
   "metadata": {
    "id": "ME_iTcgfB1RX"
   },
   "outputs": [],
   "source": [
    "data['Price'] = data['Price'].apply(lambda x: float(x.replace(\",\",\"\")))"
   ]
  },
  {
   "cell_type": "code",
   "execution_count": 3,
   "metadata": {
    "colab": {
     "base_uri": "https://localhost:8080/",
     "height": 504
    },
    "id": "FIhcQ3z_8TZh",
    "outputId": "ea1e9fac-4f23-444e-ec47-02764c2c9273"
   },
   "outputs": [
    {
     "data": {
      "text/plain": [
       "<Axes: xlabel='Date'>"
      ]
     },
     "execution_count": 3,
     "metadata": {},
     "output_type": "execute_result"
    },
    {
     "data": {
      "image/png": "[encoded data removed]",
      "text/plain": [
       "<Figure size 640x480 with 1 Axes>"
      ]
     },
     "metadata": {},
     "output_type": "display_data"
    }
   ],
   "source": [
    "data = data[['Price']]\n",
    "\n",
    "data.plot()"
   ]
  },
  {
   "cell_type": "code",
   "execution_count": 4,
   "metadata": {
    "id": "Xa06z3pX8nZf"
   },
   "outputs": [],
   "source": [
    "def code_mean(data, cat_feature, real_feature):\n",
    "    return dict(data.groupby(cat_feature)[real_feature].mean())"
   ]
  },
  {
   "cell_type": "markdown",
   "metadata": {
    "id": "ESSNiH9d0yiE"
   },
   "source": [
    "Извлечем признаки"
   ]
  },
  {
   "cell_type": "code",
   "execution_count": 5,
   "metadata": {
    "id": "pMPRyHh-9JKC"
   },
   "outputs": [],
   "source": [
    "target = \"Price\"\n",
    "\n",
    "def preprocess_data(data, lag_start=7, lag_end=20, test_size=0.02):\n",
    "\n",
    "    data = pd.DataFrame(data.copy())\n",
    "\n",
    "    # считаем индекс в датафрейме, после которого начинается тестовый отрезок\n",
    "    test_index = int(len(data) * (1 - test_size))\n",
    "    # добавляем лаги исходного ряда в качестве признаков\n",
    "    for i in range(lag_start, lag_end):\n",
    "        data[f\"lag_{i}\"] = data[target].shift(i)\n",
    "\n",
    "    data[\"day\"] = data.index.day\n",
    "\n",
    "    # считаем средние только по тренировочной части, чтобы избежать лика\n",
    "    data[\"day_average\"] = list(map(code_mean(data[:test_index], \"day\", target).get, data.day))\n",
    "\n",
    "    # выкидываем закодированные средними признаки\n",
    "    data.drop([\"day\"], axis=1, inplace=True)\n",
    "\n",
    "    data = data.dropna()\n",
    "    data = data.reset_index(drop=True)\n",
    "\n",
    "    # разбиваем весь датасет на тренировочную и тестовую выборку\n",
    "    X_train = data.loc[:test_index].drop([target], axis=1)\n",
    "    y_train = data.loc[:test_index][target]\n",
    "    X_test = data.loc[test_index:].drop([target], axis=1)\n",
    "    y_test = data.loc[test_index:][target]\n",
    "\n",
    "    return X_train, X_test, y_train, y_test"
   ]
  },
  {
   "cell_type": "markdown",
   "metadata": {
    "id": "8Vbk6Pg600mn"
   },
   "source": [
    "Обучим линейную регрессию (подберем размер теста так, чтобы в него попали ровно те 7 дней, для которых мы делаем прогноз)"
   ]
  },
  {
   "cell_type": "code",
   "execution_count": 6,
   "metadata": {
    "colab": {
     "base_uri": "https://localhost:8080/",
     "height": 500
    },
    "id": "aZm5Mn2CrsXy",
    "outputId": "9188a9da-3e71-4a21-db62-c9826b039fe6"
   },
   "outputs": [
    {
     "name": "stdout",
     "output_type": "stream",
     "text": [
      "7\n"
     ]
    },
    {
     "data": {
      "text/plain": [
       "<matplotlib.legend.Legend at 0x7f9a532ba2c0>"
      ]
     },
     "execution_count": 6,
     "metadata": {},
     "output_type": "execute_result"
    },
    {
     "data": {
      "image/png": "[encoded data removed]",
      "text/plain": [
       "<Figure size 1000x500 with 1 Axes>"
      ]
     },
     "metadata": {},
     "output_type": "display_data"
    }
   ],
   "source": [
    "from sklearn.linear_model import LinearRegression\n",
    "\n",
    "X_train, X_test, y_train, y_test = preprocess_data(data, test_size=0.035, lag_start=7, lag_end=14)\n",
    "\n",
    "print(len(y_test))\n",
    "\n",
    "lr = LinearRegression()\n",
    "lr.fit(X_train, y_train)\n",
    "preds = lr.predict(X_test)\n",
    "\n",
    "plt.figure(figsize=(10, 5))\n",
    "plt.plot(preds, \"r\", label=\"prediction\")\n",
    "plt.plot(y_test.values, label=\"actual\")\n",
    "plt.grid(True)\n",
    "plt.legend(loc=\"best\")"
   ]
  },
  {
   "cell_type": "markdown",
   "metadata": {
    "id": "YsaQVeCA077J"
   },
   "source": [
    "Сохраним прогноз в файл и отправим на kaggle."
   ]
  },
  {
   "cell_type": "code",
   "execution_count": 7,
   "metadata": {
    "id": "SyBIk5JWxFIW"
   },
   "outputs": [],
   "source": [
    "X_test['Date'] = data.index[-7:]\n",
    "X_test['Price'] = preds\n",
    "\n",
    "X_test.set_index('Date', inplace=True)"
   ]
  },
  {
   "cell_type": "code",
   "execution_count": 8,
   "metadata": {
    "colab": {
     "base_uri": "https://localhost:8080/",
     "height": 323
    },
    "id": "9L32oQuLVlIm",
    "outputId": "8bee2cd1-f13f-4d04-d27a-248cf8f65e0c"
   },
   "outputs": [
    {
     "data": {
      "text/html": [
       "<div>\n",
       "<style scoped>\n",
       "    .dataframe tbody tr th:only-of-type {\n",
       "        vertical-align: middle;\n",
       "    }\n",
       "\n",
       "    .dataframe tbody tr th {\n",
       "        vertical-align: top;\n",
       "    }\n",
       "\n",
       "    .dataframe thead th {\n",
       "        text-align: right;\n",
       "    }\n",
       "</style>\n",
       "<table border=\"1\" class=\"dataframe\">\n",
       "  <thead>\n",
       "    <tr style=\"text-align: right;\">\n",
       "      <th></th>\n",
       "      <th>Price</th>\n",
       "    </tr>\n",
       "    <tr>\n",
       "      <th>Date</th>\n",
       "      <th></th>\n",
       "    </tr>\n",
       "  </thead>\n",
       "  <tbody>\n",
       "    <tr>\n",
       "      <th>2023-07-08</th>\n",
       "      <td>30196.939547</td>\n",
       "    </tr>\n",
       "    <tr>\n",
       "      <th>2023-07-09</th>\n",
       "      <td>29939.525845</td>\n",
       "    </tr>\n",
       "    <tr>\n",
       "      <th>2023-07-10</th>\n",
       "      <td>30371.300482</td>\n",
       "    </tr>\n",
       "    <tr>\n",
       "      <th>2023-07-11</th>\n",
       "      <td>29526.355905</td>\n",
       "    </tr>\n",
       "    <tr>\n",
       "      <th>2023-07-12</th>\n",
       "      <td>29414.429412</td>\n",
       "    </tr>\n",
       "    <tr>\n",
       "      <th>2023-07-13</th>\n",
       "      <td>28647.518808</td>\n",
       "    </tr>\n",
       "    <tr>\n",
       "      <th>2023-07-14</th>\n",
       "      <td>30296.037932</td>\n",
       "    </tr>\n",
       "  </tbody>\n",
       "</table>\n",
       "</div>"
      ],
      "text/plain": [
       "                   Price\n",
       "Date                    \n",
       "2023-07-08  30196.939547\n",
       "2023-07-09  29939.525845\n",
       "2023-07-10  30371.300482\n",
       "2023-07-11  29526.355905\n",
       "2023-07-12  29414.429412\n",
       "2023-07-13  28647.518808\n",
       "2023-07-14  30296.037932"
      ]
     },
     "execution_count": 8,
     "metadata": {},
     "output_type": "execute_result"
    }
   ],
   "source": [
    "X_test[['Price']]"
   ]
  },
  {
   "cell_type": "code",
   "execution_count": 9,
   "metadata": {
    "id": "9z7pGvxSxFyJ"
   },
   "outputs": [],
   "source": [
    "X_test[['Price']].to_csv(\"prediction_baseline.csv\")"
   ]
  }
 ],
 "metadata": {
  "colab": {
   "provenance": []
  },
  "kernelspec": {
   "display_name": "Python 3 (ipykernel)",
   "language": "python",
   "name": "python3"
  },
  "language_info": {
   "codemirror_mode": {
    "name": "ipython",
    "version": 3
   },
   "file_extension": ".py",
   "mimetype": "text/x-python",
   "name": "python",
   "nbconvert_exporter": "python",
   "pygments_lexer": "ipython3",
   "version": "3.10.10"
  }
 },
 "nbformat": 4,
 "nbformat_minor": 4
}
